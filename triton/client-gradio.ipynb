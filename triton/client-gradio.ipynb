{
 "cells": [
  {
   "cell_type": "code",
   "execution_count": 1,
   "id": "fa27e4a3-38ce-4e3f-acff-1fb12a3d2c1d",
   "metadata": {},
   "outputs": [],
   "source": [
    "import numpy as np\n",
    "import requests\n",
    "import matplotlib.pyplot as plt\n",
    "import ast\n",
    "import logging\n",
    "import os\n",
    "# import skimage\n",
    "from PIL import Image\n",
    "import gradio as gr"
   ]
  },
  {
   "cell_type": "code",
   "execution_count": 2,
   "id": "39c727fd-0901-4619-8b8d-a0215b02f615",
   "metadata": {},
   "outputs": [],
   "source": [
    "\n",
    "\n",
    "def make_prediction(img:np.array, img_size:int, host:str)-> requests:\n",
    "  \"\"\"\n",
    "  Make a binary prediction from a single fingerprint image.\n",
    "  Args:\n",
    "   img - The request image array.\n",
    "   img_size - The image height and width.\n",
    "   host - The hostname[:port] of the model service.\n",
    "  Returns: The model output prediction.\n",
    "  \"\"\"\n",
    "  #\n",
    "  # Build the request payload. The \"name\" must match the\n",
    "  # input layer name of the model.\n",
    "  #\n",
    "  req2 = {\n",
    "      \"inputs\": [\n",
    "        {\n",
    "          \"name\": \"conv2d_12_input\",\n",
    "          \"shape\": [1, img_size, img_size, 1],\n",
    "          \"datatype\": \"FP32\",\n",
    "          \"data\": img.tolist()\n",
    "        }\n",
    "      ]\n",
    "    }\n",
    "\n",
    "  url = f'https://{host}/v2/models/fingerprint/infer'\n",
    "  r = requests.post(url, json=req2)\n",
    "  return r\n",
    "\n"
   ]
  },
  {
   "cell_type": "code",
   "execution_count": 3,
   "id": "c22a2a78-c3a6-4fd4-9d28-5938f8a13a11",
   "metadata": {},
   "outputs": [],
   "source": [
    "def predict(image):\n",
    "    # return image.rotate(45)\n",
    "    logging.info(f\"predict(): type = {type(image)}\")\n",
    "    logging.info(f\"predict(): image = {image}\")\n",
    "\n",
    "    resized = image.resize((96, 96)).convert('L')\n",
    "    logging.info(f\"predict(): resized = {resized}\")\n",
    "    np_image = np.asarray(resized)\n",
    "    host = \"triton-models.apps.ocp.sandbox2000.opentlc.com\"\n",
    "    r = make_prediction(np_image, 96, host)\n",
    "    p = ast.literal_eval(r.content.decode())\n",
    "    return f\"Prediction = {p}\"\n",
    "\n",
    "\n",
    "demo = gr.Interface(predict, gr.Image(type=\"pil\"), \"text\",\n",
    "    flagging_options=[\"blurry\", \"incorrect\", \"other\"], examples=[\n",
    "        os.path.join(os.path.abspath(''), \"images/103__F_Left_index_finger.png\"),\n",
    "        os.path.join(os.path.abspath(''), \"images/275__F_Left_index_finger.png\"),\n",
    "        os.path.join(os.path.abspath(''), \"images/232__M_Right_index_finger.png\"),\n",
    "        os.path.join(os.path.abspath(''), \"images/504__M_Right_index_finger.png\")\n",
    "        ])"
   ]
  },
  {
   "cell_type": "code",
   "execution_count": 6,
   "id": "ebc8c4c8-988b-4991-a14f-b3d7bffd155a",
   "metadata": {},
   "outputs": [
    {
     "name": "stdout",
     "output_type": "stream",
     "text": [
      "Running on local URL:  http://127.0.0.1:7860\n",
      "\n",
      "To create a public link, set `share=True` in `launch()`.\n"
     ]
    },
    {
     "data": {
      "text/html": [
       "<div><iframe src=\"http://127.0.0.1:7860/\" width=\"100%\" height=\"500\" allow=\"autoplay; camera; microphone; clipboard-read; clipboard-write;\" frameborder=\"0\" allowfullscreen></iframe></div>"
      ],
      "text/plain": [
       "<IPython.core.display.HTML object>"
      ]
     },
     "metadata": {},
     "output_type": "display_data"
    },
    {
     "name": "stderr",
     "output_type": "stream",
     "text": [
      "INFO:root:predict(): type = <class 'PIL.Image.Image'>\n",
      "INFO:root:predict(): image = <PIL.Image.Image image mode=RGB size=96x103 at 0x12459EE80>\n",
      "INFO:root:predict(): resized = <PIL.Image.Image image mode=L size=96x96 at 0x1245AD7C0>\n",
      "INFO:root:predict(): type = <class 'PIL.Image.Image'>\n",
      "INFO:root:predict(): image = <PIL.Image.Image image mode=RGB size=2020x1244 at 0x1245AD3A0>\n",
      "INFO:root:predict(): resized = <PIL.Image.Image image mode=L size=96x96 at 0x12454BD90>\n",
      "INFO:root:predict(): type = <class 'PIL.Image.Image'>\n",
      "INFO:root:predict(): image = <PIL.Image.Image image mode=RGB size=96x103 at 0x1245BB310>\n",
      "INFO:root:predict(): resized = <PIL.Image.Image image mode=L size=96x96 at 0x1245BBCA0>\n",
      "INFO:root:predict(): type = <class 'PIL.Image.Image'>\n",
      "INFO:root:predict(): image = <PIL.Image.Image image mode=RGB size=96x103 at 0x1245BBA00>\n",
      "INFO:root:predict(): resized = <PIL.Image.Image image mode=L size=96x96 at 0x1245BB6A0>\n",
      "INFO:root:predict(): type = <class 'PIL.Image.Image'>\n",
      "INFO:root:predict(): image = <PIL.Image.Image image mode=RGB size=96x103 at 0x12459EE80>\n",
      "INFO:root:predict(): resized = <PIL.Image.Image image mode=L size=96x96 at 0x12459E730>\n",
      "INFO:root:predict(): type = <class 'PIL.Image.Image'>\n",
      "INFO:root:predict(): image = <PIL.Image.Image image mode=RGB size=96x103 at 0x1245BB6A0>\n",
      "INFO:root:predict(): resized = <PIL.Image.Image image mode=L size=96x96 at 0x1245BB700>\n"
     ]
    }
   ],
   "source": [
    "if __name__ == \"__main__\":\n",
    "\n",
    "  logging.basicConfig(level=logging.INFO)\n",
    "\n",
    "  demo.launch()"
   ]
  },
  {
   "cell_type": "code",
   "execution_count": 5,
   "id": "4b296122-d15a-433d-86aa-0e82d3cccbc8",
   "metadata": {},
   "outputs": [
    {
     "name": "stdout",
     "output_type": "stream",
     "text": [
      "Closing server running on port: 7860\n"
     ]
    }
   ],
   "source": [
    "demo.close()"
   ]
  },
  {
   "cell_type": "code",
   "execution_count": null,
   "id": "edcb0df9-b289-46b1-a526-3a5e59facd89",
   "metadata": {},
   "outputs": [],
   "source": [
    "#\n",
    "# This cell will be deleted and should not be run.\n",
    "#\n",
    "\n",
    "#\n",
    "# Check that $HOST is set.\n",
    "#\n",
    "try:\n",
    "assert os.getenv('HOST')\n",
    "logging.info(f\"HOST = {os.getenv('HOST')}\")\n",
    "except:\n",
    "logging.error(\"HOST environment variable is not set!\")\n",
    "exit()\n",
    "\n",
    "host = os.getenv('HOST')\n",
    "url = f'https://{host}/v2'\n",
    "r = \"\"\n",
    "\n",
    "try:\n",
    "r = requests.get(url)\n",
    "# logging.info(\"\")\n",
    "# logging.info(f'Triton Server Status:')\n",
    "# logging.info(\"\")\n",
    "# logging.info(f'{r.content.decode()}')\n",
    "# logging.info(\"\")\n",
    "except:\n",
    "logging.error(f\"Requests Error! {r}\")\n",
    "exit()\n",
    "\n",
    "#\n",
    "# Make 4 single image predictions.\n",
    "#\n",
    "img_size = 96\n",
    "filepath = 'images'\n",
    "filenames = [\n",
    "'103__F_Left_index_finger.png',\n",
    "'275__F_Left_index_finger.png',\n",
    "'232__M_Right_index_finger.png',\n",
    "'504__M_Right_index_finger.png'\n",
    "]\n",
    "\n",
    "for filename in filenames:\n",
    "\n",
    "#\n",
    "# Read in an image file using skimage.\n",
    "#\n",
    "f = f'{filepath}/{filename}'\n",
    "F_Left_index = skimage.io.imread(f, as_gray=True)\n",
    "img_resized = skimage.transform.resize(F_Left_index, (96, 96))\n",
    "\n",
    "logging.debug(f'img_resized.shape = {img_resized.shape}')\n",
    "logging.info(f'skimage type: {type(img_resized)}')\n",
    "\n",
    "#\n",
    "# Make an inference via REST.\n",
    "#\n",
    "try:\n",
    "  r = make_prediction(img_resized, img_size, host)\n",
    "  logging.debug(f'REST inference response = {r}')\n",
    "  p = ast.literal_eval(r.content.decode())\n",
    "  logging.info(f\"Fingerprint = {filename}, Prediction = {p['outputs'][0]['data']}\")\n",
    "  f = plt.figure()\n",
    "  f.set_figwidth(1)\n",
    "  f.set_figheight(1)  \n",
    "  imgplot = plt.imshow(img_resized, cmap=\"gray\") \n",
    "  plt.show()\n",
    "except:\n",
    "  logging.error(f\"Requests POST Error {r.content}\")\n"
   ]
  },
  {
   "cell_type": "code",
   "execution_count": null,
   "id": "78f92551-0ac9-4802-9500-4a5646d423c7",
   "metadata": {},
   "outputs": [],
   "source": []
  },
  {
   "cell_type": "code",
   "execution_count": null,
   "id": "9f6acddd-340b-4b5d-bb0e-ff32b6a2bd92",
   "metadata": {},
   "outputs": [],
   "source": []
  }
 ],
 "metadata": {
  "kernelspec": {
   "display_name": "Python 3 (ipykernel)",
   "language": "python",
   "name": "python3"
  },
  "language_info": {
   "codemirror_mode": {
    "name": "ipython",
    "version": 3
   },
   "file_extension": ".py",
   "mimetype": "text/x-python",
   "name": "python",
   "nbconvert_exporter": "python",
   "pygments_lexer": "ipython3",
   "version": "3.9.16"
  }
 },
 "nbformat": 4,
 "nbformat_minor": 5
}
